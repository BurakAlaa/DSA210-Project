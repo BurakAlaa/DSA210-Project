import pandas as pd

# Load the file with semicolons as separators
data_semicolon = pd.read_csv(r'C:\Users\Burak\Downloads\DSA210_study_data.csv', sep=';')

# Convert the DataFrame to comma-separated format
csv_with_commas = data_semicolon.to_csv(index=False)

# Save the output to a new CSV file
output_comma_file_path = r'C:\Users\Burak\Downloads\DSA210_study_data_comma.csv'
with open(output_comma_file_path, 'w') as file:
    file.write(csv_with_commas)

output_comma_file_path

  
